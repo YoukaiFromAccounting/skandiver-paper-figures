{
  "nbformat": 4,
  "nbformat_minor": 0,
  "metadata": {
    "colab": {
      "provenance": []
    },
    "kernelspec": {
      "name": "python3",
      "display_name": "Python 3"
    },
    "language_info": {
      "name": "python"
    }
  },
  "cells": [
    {
      "cell_type": "markdown",
      "source": [
        "**Recreating the the embedded plasmid figure (frankenplasmid)**\n",
        "\n",
        "\n",
        "The embedded plasmid test was done by embedding a database of plasmids into one single genome, creating a large \"frankenplasmid\". This allowed us to test how well our methods are able to find mobile genetic elements that may be embedded within a genome.\n",
        "\n",
        "1. First, create your frankenplasmid. Lets assume our chunk size when running skadiver is 10kbp. Then we take a very large genome, and insert a plasmid every 10 kbp as such: base genome (1-9999) + plasmid_1 + base_genome(10,000-19,999) etc... until all plasmids have been inserted. This was created using the following command:\n",
        "\n",
        "```\n",
        "python3 create_giant_plasmid.py <plasmids.fasta> <base_genome.fasta> <chunk_size>\n",
        "```\n",
        "This outputs a .fasta file of your frankenplasmid, with 10kbp (or desired chunk size) between each plasmid\n",
        "Keep in mind the size of your base genome must be >= chunk_size*(number of plasmids + 2)\n",
        "\n",
        "\n",
        "This will also output a .csv of the locations of each plasmid.\n",
        "\n",
        "2. Run Skandiver on the franken plasmid using the chunk size you chose. Then, extract the data from the skandiver output using the following command:\n",
        "\n",
        "```\n",
        "python3 franken_plasmid_analysis.py <skani_output> <.csv file of locations and names> <output file of found plasmids>\n",
        "```\n",
        "This will output a list of the names of the plasmids that were found by skandiver\n",
        "3. Run genomad on the frankenplasmid. Genomad had a very difficult time intaking such a large genome, so I suggest chunking the franken plasmid into smaller pieces first (I chose 5 million bp) using the following command:\n",
        "\n",
        "```\n",
        "python3 chunktwentytwo.py <franken_plasmid.fasta> <chunked_5m_franken_plasmid.fasta output file> 5000000\n",
        "```\n",
        "Then, added indexes to the gene id's to make genomad happy. Use the following command:\n",
        "\n",
        "```\n",
        "python3 add_indexes_to_multifasta.py <chunked_5m_franken_plasmid.fasta>\n",
        "```\n",
        "4. Analyse the genomad output using the following commands (there are different ones for virus and plasmid output files)\n",
        "\n",
        "```\n",
        "python3 analyze_genomad_frankenvirus.py <genomad_output_virus_summary.tsv> <plasmid_locations(from earlier).csv> <genomad_output_of_found_viruses.txt>\n",
        "\n",
        "```\n",
        "```\n",
        "python3 analyze_genomad_franken_plasmid.py <genomad_output_plasmid_genes.tsv> <plasmid_locations(from earlier).csv> <genomad_output_of_found_plasmids.txt>\n",
        "\n",
        "```\n",
        "Then combine the two files in union of the plasmid names\n",
        "\n",
        "```\n",
        "python3 combine_files.py <genomad_found_plasmids.txt> <genomad_found_viruses.txt> <genomad_all_MGE_found.txt>\n",
        "\n",
        "```\n",
        "5. Run Mefinder on the franken plasmid. It took a while to run, but no need to chunk the franken plasmid into smaller pieces. Use the following commad to extract the found plasmids:\n",
        "\n",
        "```\n",
        "python3 analyze_mefinder_franken_plasmid.py <mefinder_franken_plasmid_output.csv> <plasmid_locations.csv> <mefinder_found_plasmids.txt>\n",
        "\n",
        "```\n",
        "6. Now that all data has been collected from each method, we can graph the results. You will need a .csv file with the plasmid name and its length. Use the following code block / function below to plot the data:"
      ],
      "metadata": {
        "id": "dKczz8aSNt0G"
      }
    },
    {
      "cell_type": "code",
      "source": [
        "# if you don't have the data for one of the methods, just say None in its place\n",
        "plot_hist(<plasmid_lengths>, <skandiver>, <genomad>, <mefinder>, <bucket_num(number of buckets you want in the histogram>)"
      ],
      "metadata": {
        "id": "2wTzOJQRYv2Q"
      },
      "execution_count": null,
      "outputs": []
    },
    {
      "cell_type": "code",
      "execution_count": null,
      "metadata": {
        "id": "NprreNMJNkhu"
      },
      "outputs": [],
      "source": [
        "#@title Graph Plotting Function\n",
        "import math\n",
        "import matplotlib.pyplot as plt\n",
        "import numpy as np\n",
        "import pandas as pd\n",
        "import matplotlib.patches as patches\n",
        "\n",
        "def make_percentages(og_bucket_count, new_bucket):\n",
        "    percentages = []\n",
        "    for i in range(len(og_bucket_count)):\n",
        "        per = (new_bucket[i]/og_bucket_count[i])*100\n",
        "        #print(\"per\", per)\n",
        "        percentages.append(per)\n",
        "    return percentages\n",
        "\n",
        "def obtain_bucket_counts(plasmid_lengths_df, bin_edges, found_plasmids, num_buckets):\n",
        "    found_bucket_counts = {i: 0 for i in range(num_buckets)}\n",
        "    for length in plasmid_lengths_df[plasmid_lengths_df[\"Gene Name\"].isin(found_plasmids)][\"Length\"]:\n",
        "        bucket_index = find_index(length, bin_edges)\n",
        "        #print(length)\n",
        "        found_bucket_counts[bucket_index] += 1\n",
        "    return found_bucket_counts\n",
        "\n",
        "def find_index(length, bin_edges):\n",
        "    for i in range(0, len(bin_edges)-1):\n",
        "        if bin_edges[i] <= length and length <= bin_edges[i+1]:\n",
        "            #print(f'{bin_edges[i]} <={length} <= {bin_edges[i+1]}', i)\n",
        "            return i\n",
        "    return len(bin_edges)-2\n",
        "\n",
        "def plot_hist(plasmid_lengths, skandiver, genomad, mefinder, bucket_num):\n",
        "    # Sample data for four different sets of bars\n",
        "    skani_color =  (254/255, 17/255, 17/255)\n",
        "    genomad_color =  (1/255, 207/255, 13/255)\n",
        "    mefinder_color =  (1/255, 40/255, 218/255)\n",
        "\n",
        "    bucket_arr = []\n",
        "    for i in range(1, bucket_num+1):\n",
        "        bucket_arr.append(i)\n",
        "    x = np.array(bucket_arr)\n",
        "\n",
        "    plasmid_lengths_df = pd.read_csv(plasmid_lengths)\n",
        "\n",
        "    min_length = min(plasmid_lengths_df[\"Length\"])\n",
        "    max_length = max(plasmid_lengths_df[\"Length\"])\n",
        "    # Specify the number of buckets and bucket size\n",
        "    num_buckets = bucket_num\n",
        "    bin_edges = np.logspace(np.log10(min_length), np.log10(max_length), num=num_buckets+1)\n",
        "    bucket_size = max(plasmid_lengths_df[\"Length\"]) // num_buckets\n",
        "\n",
        "    bucket_counts_original = {i: 0 for i in range(num_buckets)}\n",
        "    for length in plasmid_lengths_df[\"Length\"]:\n",
        "        bucket_index = find_index(length, bin_edges)\n",
        "        bucket_counts_original[bucket_index] += 1\n",
        "\n",
        "    # Width of each bar\n",
        "    width = 0.2\n",
        "\n",
        "    genomad_color =  (1/255, 207/255, 13/255)\n",
        "\n",
        "    if skandiver:\n",
        "        with open(skandiver, \"r\") as file:  # Replace with the path to your found plasmids file\n",
        "            found_skani_plasmids = [line.strip() for line in file]\n",
        "        skandiver_count = obtain_bucket_counts(plasmid_lengths_df, bin_edges, found_skani_plasmids, bucket_num)\n",
        "        skandiver_plot = make_percentages(bucket_counts_original, skandiver_count)\n",
        "        y3 = np.array(skandiver_plot)\n",
        "        plt.bar(x + 3 * width, y3, width=width, color='red', label='')\n",
        "\n",
        "    if mefinder:\n",
        "            with open(mefinder, \"r\") as file:  # Replace with the path to your found plasmids file\n",
        "                found_mefinder_plasmids = [line.strip() for line in file]\n",
        "            mefinder_count = obtain_bucket_counts(plasmid_lengths_df, bin_edges, found_mefinder_plasmids, bucket_num)\n",
        "            mefinder_plot = make_percentages(bucket_counts_original, mefinder_count)\n",
        "            y2 = np.array(mefinder_plot)\n",
        "            # Plotting the second set of bars with a specific color\n",
        "            plt.bar(x + width, y2, width=width, color='blue')\n",
        "\n",
        "    if genomad:\n",
        "            with open(genomad, \"r\") as file:  # Replace with the path to your found plasmids file\n",
        "                found_genomad_plasmids = [line.strip() for line in file]\n",
        "            genomad_count = obtain_bucket_counts(plasmid_lengths_df, bin_edges, found_genomad_plasmids, bucket_num)\n",
        "            genomad_plot = make_percentages(bucket_counts_original, genomad_count)\n",
        "            y4 = np.array(genomad_plot)\n",
        "            # Plotting the fourth set of bars with a specific color\n",
        "            plt.bar(x + 2*width, y4, width=width, color=(1/255, 207/255, 13/255))\n",
        "\n",
        "    #print(\"mefinder\", mefinder_plot)\n",
        "    #print(\"genomad\", genomad_plot)\n",
        "    #print(\"skandiver\", skandiver_plot)\n",
        "    bucket_labels = []\n",
        "    for i in range(bucket_num):\n",
        "        bucket_labels.append(f\"{bin_edges[i]}-{bin_edges[i+1]}\")\n",
        "    print(\"bin edges \", bucket_labels)\n",
        "    # Labeling the x-axis\n",
        "    plt.xlabel('Bin edges')\n",
        "\n",
        "    # Labeling the y-axis\n",
        "    plt.ylabel('Percent Plasmids Found')\n",
        "\n",
        "    # Adding a title\n",
        "    plt.title('Percent of Plasmids Found For each Method')\n",
        "\n",
        "    plt.legend(handles=[patches.Patch(color=skani_color, label='skandiver'),\n",
        "                    patches.Patch(color=mefinder_color, label='mefinder'),\n",
        "                    patches.Patch(color=genomad_color, label='genomad')],\n",
        "            bbox_to_anchor=(1.05, 1), loc='upper left')\n",
        "\n",
        "\n",
        "    # Display the plot\n",
        "    plt.show()"
      ]
    },
    {
      "cell_type": "code",
      "source": [
        "#@title practice:\n",
        "plot_hist(\"plasmid_lengths.csv\", \"true_found_10k_franken_plasmids.txt\", \"genomad_all_MGE_found.txt\", \"mefinder_found_10k_franken_plasmids.txt\", 7)"
      ],
      "metadata": {
        "colab": {
          "base_uri": "https://localhost:8080/",
          "height": 509
        },
        "id": "pc9oHAcYY6Ll",
        "outputId": "f82fc8e4-7639-4852-9a00-1a0d3a94f1c0"
      },
      "execution_count": null,
      "outputs": [
        {
          "output_type": "stream",
          "name": "stdout",
          "text": [
            "bin edges  ['829.9999999999997-2846.089433710037', '2846.089433710037-9759.307306838462', '9759.307306838462-33464.89326062906', '33464.89326062906-114751.90254133813', '114751.90254133813-393486.9606277428', '393486.9606277428-1349276.0011389144', '1349276.0011389144-4626698.999999998']\n"
          ]
        },
        {
          "output_type": "display_data",
          "data": {
            "text/plain": [
              "<Figure size 640x480 with 1 Axes>"
            ],
            "image/png": "[encoded data removed]"
          },
          "metadata": {}
        }
      ]
    }
  ]
}